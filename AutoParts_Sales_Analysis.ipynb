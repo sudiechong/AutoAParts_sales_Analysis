{
 "cells": [
  {
   "cell_type": "markdown",
   "metadata": {},
   "source": [
    "  "
   ]
  },
  {
   "cell_type": "markdown",
   "metadata": {},
   "source": [
    "# 汽车配件行业销售数据分析及可视化 "
   ]
  },
  {
   "cell_type": "markdown",
   "metadata": {},
   "source": [
    "## 一、前言"
   ]
  },
  {
   "cell_type": "markdown",
   "metadata": {},
   "source": [
    "汽车配件和快消产品不同之处在于，顾客不是价格敏感性的群体，他们更加关注产品的性价比。大部分顾客选择购买原厂件，原厂件价格高，利润少，质量有保证。近年来，品牌件也成为了发展趋势，成本低，利润高，成为供应商主推的产品，质量良莠不齐，价格低廉可以销售更多的同时，也会导致更高的退货率。"
   ]
  },
  {
   "cell_type": "markdown",
   "metadata": {},
   "source": [
    "## 二、提出问题："
   ]
  },
  {
   "cell_type": "markdown",
   "metadata": {},
   "source": [
    "   1. 四大区域的市场份额情况如何  \n",
    "   2. 销售排名前十的省份有哪些  \n",
    "   3. 不同省份成交哪些品类高  \n",
    "   4. 华南区成交销售额排名前十的车品牌有哪些  \n",
    "   5. 华南区不同车品牌的品牌件销售占比、原厂件销售占比分别是多少  "
   ]
  },
  {
   "cell_type": "markdown",
   "metadata": {},
   "source": [
    "## 三、数据清洗"
   ]
  },
  {
   "cell_type": "code",
   "execution_count": 1,
   "metadata": {},
   "outputs": [],
   "source": [
    "from pylab import mpl\n",
    "import pandas as pd\n",
    "import numpy as np\n",
    "import seaborn as sns\n",
    "import matplotlib.pyplot as plt\n",
    "import time\n",
    "from datetime import timedelta\n",
    "from datetime import datetime\n"
   ]
  },
  {
   "cell_type": "code",
   "execution_count": 2,
   "metadata": {},
   "outputs": [
    {
     "name": "stderr",
     "output_type": "stream",
     "text": [
      "D:\\Anaconda3\\lib\\site-packages\\IPython\\core\\interactiveshell.py:3057: DtypeWarning: Columns (19) have mixed types. Specify dtype option on import or set low_memory=False.\n",
      "  interactivity=interactivity, compiler=compiler, result=result)\n"
     ]
    }
   ],
   "source": [
    "with open(r'data.csv')as f:\n",
    "    transaction_data = pd.read_csv(f)\n",
    "\n"
   ]
  },
  {
   "cell_type": "code",
   "execution_count": 3,
   "metadata": {},
   "outputs": [
    {
     "name": "stdout",
     "output_type": "stream",
     "text": [
      "************transaction_data前3行*************\n",
      "       支付月                 支付时间       订单号    订单明细id  汽修厂id（加密脱敏）  \\\n",
      "0  2019-06  2019-06-27 17:10:24  O4214957  12507649       666401   \n",
      "1  2019-06  2019-06-29 15:07:33  O4224523  12533061       808137   \n",
      "2  2019-06  2019-06-30 13:47:24  O4228701  12544491       750947   \n",
      "\n",
      "                  汽修厂 注册省份 注册城市    大区  车品牌     车子品牌         配件编码       标准主名  \\\n",
      "0   鼎湖区中德美钣金喷漆汽车专项维修厂   广东  肇庆市  华南大区  雪佛兰  上汽通用雪佛兰      9017701   水箱导流板（下）   \n",
      "1          永康市盛鑫汽车快修店   浙江  金华市  华东大区   大众     上汽大众   18D867175E    前门扶手（左）   \n",
      "2  广州市车爵仕汽车美容装饰维修服务中心   广东  广州市  华南大区   本田     东风本田  33151SNAH02  前大灯半总成（左）   \n",
      "\n",
      "        配件品牌 配件品质  商品销售数量  商品销售金额  供应商id（加密脱敏）              供应商 商品大类  \n",
      "0  申通_SRUMTO   国内       1    35.0       711761        广州市昊翔汽车配件  事故件  \n",
      "1        NaN   国内       1    65.0       785054  纯配供应链科技(杭州）有限公司  事故件  \n",
      "2         俊誉   国内       1   318.0       743836          途畅（品牌件）  事故件  \n",
      "************transaction_data各列信息************\n",
      "<class 'pandas.core.frame.DataFrame'>\n",
      "RangeIndex: 929944 entries, 0 to 929943\n",
      "Data columns (total 20 columns):\n",
      "支付月            929944 non-null object\n",
      "支付时间           929944 non-null object\n",
      "订单号            929944 non-null object\n",
      "订单明细id         929944 non-null int64\n",
      "汽修厂id（加密脱敏）    929944 non-null int64\n",
      "汽修厂            929942 non-null object\n",
      "注册省份           929942 non-null object\n",
      "注册城市           929942 non-null object\n",
      "大区             929944 non-null object\n",
      "车品牌            920502 non-null object\n",
      "车子品牌           910455 non-null object\n",
      "配件编码           929944 non-null object\n",
      "标准主名           929936 non-null object\n",
      "配件品牌           810578 non-null object\n",
      "配件品质           929944 non-null object\n",
      "商品销售数量         929944 non-null int64\n",
      "商品销售金额         929944 non-null float64\n",
      "供应商id（加密脱敏）    929944 non-null int64\n",
      "供应商            929944 non-null object\n",
      "商品大类           372976 non-null object\n",
      "dtypes: float64(1), int64(4), object(15)\n",
      "memory usage: 141.9+ MB\n",
      "None \n",
      " \n",
      "\n"
     ]
    }
   ],
   "source": [
    "# 建立函数，查看数据集前3行和各列的信息\n",
    "def check_file(data, data_name):\n",
    "    print('{:*^30}'.format('{}前3行').format(data_name))\n",
    "    print(data.head(3))\n",
    "    print('{:*^30}'.format('{}各列信息').format(data_name))\n",
    "    print(data.info(), '\\n', '\\n')\n",
    "\n",
    "\n",
    "check_file(transaction_data, 'transaction_data')\n",
    "\n"
   ]
  },
  {
   "cell_type": "code",
   "execution_count": 4,
   "metadata": {},
   "outputs": [
    {
     "name": "stdout",
     "output_type": "stream",
     "text": [
      "支付月 唯一值数量: 5\n",
      "支付时间 唯一值数量: 318695\n",
      "订单号 唯一值数量: 335199\n",
      "订单明细id 唯一值数量: 929939\n",
      "汽修厂id（加密脱敏） 唯一值数量: 16014\n",
      "汽修厂 唯一值数量: 17073\n",
      "注册省份 唯一值数量: 23\n",
      "注册城市 唯一值数量: 182\n",
      "大区 唯一值数量: 9\n",
      "车品牌 唯一值数量: 79\n",
      "车子品牌 唯一值数量: 123\n",
      "配件编码 唯一值数量: 195635\n",
      "标准主名 唯一值数量: 21547\n",
      "配件品牌 唯一值数量: 593\n",
      "配件品质 唯一值数量: 4\n",
      "商品销售数量 唯一值数量: 47\n",
      "商品销售金额 唯一值数量: 7317\n",
      "供应商id（加密脱敏） 唯一值数量: 569\n",
      "供应商 唯一值数量: 573\n",
      "商品大类 唯一值数量: 5\n"
     ]
    }
   ],
   "source": [
    "# 查看字段唯一值数量\n",
    "\n",
    "def check_unique(data):\n",
    "    for column in data.columns:\n",
    "        print('{} 唯一值数量:'.format(column), len(data[column].unique()))\n",
    "\n",
    "\n",
    "check_unique(transaction_data)\n"
   ]
  },
  {
   "cell_type": "code",
   "execution_count": 5,
   "metadata": {},
   "outputs": [
    {
     "name": "stdout",
     "output_type": "stream",
     "text": [
      "************有空值的列*************\n",
      "支付月            False\n",
      "支付时间           False\n",
      "订单号            False\n",
      "订单明细id         False\n",
      "汽修厂id（加密脱敏）    False\n",
      "汽修厂             True\n",
      "注册省份            True\n",
      "注册城市            True\n",
      "大区             False\n",
      "车品牌             True\n",
      "车子品牌            True\n",
      "配件编码           False\n",
      "标准主名            True\n",
      "配件品牌            True\n",
      "配件品质           False\n",
      "商品销售数量         False\n",
      "商品销售金额         False\n",
      "供应商id（加密脱敏）    False\n",
      "供应商            False\n",
      "商品大类            True\n",
      "dtype: bool\n",
      "***********有空值的行数量************\n",
      "610055\n"
     ]
    }
   ],
   "source": [
    "# 检查数据集空值情况\n",
    "\n",
    "\n",
    "def check_none(data):\n",
    "    print('{:*^30}'.format('有空值的列'))\n",
    "    print(data.isnull().any(axis=0))\n",
    "    print('{:*^30}'.format('有空值的行数量'))\n",
    "    print(data.isnull().any(axis=1).sum())\n",
    "\n",
    "\n",
    "check_none(transaction_data)\n"
   ]
  },
  {
   "cell_type": "code",
   "execution_count": 6,
   "metadata": {},
   "outputs": [
    {
     "name": "stdout",
     "output_type": "stream",
     "text": [
      "<class 'pandas.core.frame.DataFrame'>\n",
      "RangeIndex: 929944 entries, 0 to 929943\n",
      "Data columns (total 20 columns):\n",
      "支付月            929944 non-null object\n",
      "支付时间           929944 non-null datetime64[ns]\n",
      "订单号            929944 non-null object\n",
      "订单明细id         929944 non-null int64\n",
      "汽修厂id（加密脱敏）    929944 non-null int64\n",
      "汽修厂            929942 non-null object\n",
      "注册省份           929942 non-null object\n",
      "注册城市           929942 non-null object\n",
      "大区             929944 non-null object\n",
      "车品牌            920502 non-null object\n",
      "车子品牌           910455 non-null object\n",
      "配件编码           929944 non-null object\n",
      "标准主名           929936 non-null object\n",
      "配件品牌           810578 non-null object\n",
      "配件品质           929944 non-null object\n",
      "商品销售数量         929944 non-null int64\n",
      "商品销售金额         929944 non-null float64\n",
      "供应商id（加密脱敏）    929944 non-null int64\n",
      "供应商            929944 non-null object\n",
      "商品大类           372976 non-null object\n",
      "dtypes: datetime64[ns](1), float64(1), int64(4), object(14)\n",
      "memory usage: 141.9+ MB\n"
     ]
    }
   ],
   "source": [
    "## 转换时间格式为datetime\n",
    "transaction_data['支付时间'] = transaction_data['支付时间'].apply(\n",
    "    lambda x: datetime.strptime(x, '%Y-%m-%d %H:%M:%S'))\n",
    "\n",
    "## 检查是否转换成功\n",
    "transaction_data.info()\n"
   ]
  },
  {
   "cell_type": "code",
   "execution_count": 7,
   "metadata": {},
   "outputs": [
    {
     "data": {
      "text/plain": [
       "华南大区    805238\n",
       "华东大区     72311\n",
       "华北大区     27110\n",
       "华中大区     24970\n",
       "其它         245\n",
       "无挂靠         68\n",
       "虚拟大区         2\n",
       "Name: 大区, dtype: int64"
      ]
     },
     "execution_count": 7,
     "metadata": {},
     "output_type": "execute_result"
    }
   ],
   "source": [
    "# 对大区进行数据清洗\n",
    "region = transaction_data['大区']\n",
    "## 每个值出现次数\n",
    "region.value_counts()\n",
    "## 将华南一区和华南二区替换为华南大区\n",
    "region.replace('华南一区', '华南大区', inplace=True)\n",
    "region.replace('华南二区', '华南大区', inplace=True)\n",
    "region.value_counts()\n"
   ]
  },
  {
   "cell_type": "code",
   "execution_count": 8,
   "metadata": {},
   "outputs": [
    {
     "data": {
      "text/plain": [
       "array(['华南大区', '华东大区', '华北大区', '华中大区'], dtype=object)"
      ]
     },
     "execution_count": 8,
     "metadata": {},
     "output_type": "execute_result"
    }
   ],
   "source": [
    "# 删掉“无挂靠”，“其它”，“虚拟大区”的所有数据\n",
    "\n",
    "def CleanData(name):\n",
    "    transaction_data.drop(index=(transaction_data.loc[(\n",
    "        transaction_data['大区'] == name)].index), inplace=True)\n",
    "\n",
    "CleanData('无挂靠')\n",
    "CleanData('其它')\n",
    "CleanData('虚拟大区')\n",
    "\n",
    "# 检查是否成功删掉其它大区\n",
    "transaction_data['大区'].unique()\n"
   ]
  },
  {
   "cell_type": "code",
   "execution_count": 9,
   "metadata": {},
   "outputs": [],
   "source": [
    "with open(r'品类表.csv')as f:\n",
    "    category_data = pd.read_csv(f)\n"
   ]
  },
  {
   "cell_type": "code",
   "execution_count": 10,
   "metadata": {},
   "outputs": [
    {
     "data": {
      "text/plain": [
       "车身及附件     368634\n",
       "底盘件       189307\n",
       "发动机件      188091\n",
       "电气设备      148074\n",
       "其它         42523\n",
       "照明及电器件        57\n",
       "Name: 大类, dtype: int64"
      ]
     },
     "execution_count": 10,
     "metadata": {},
     "output_type": "execute_result"
    }
   ],
   "source": [
    "# 新建一个dataframe，取出需要的列\n",
    "data1 = transaction_data[['支付月', '支付时间', '大区', '注册省份', '注册城市',\n",
    "                          '汽修厂id（加密脱敏）', '订单号', '车品牌', '配件品牌', '配件品质', '标准主名', '商品销售数量', '商品销售金额']]\n",
    "data1 = pd.merge(data1, category_data, how='left')  # 合并了品类表中的“大类 ”\n",
    "data1['大类'].fillna('其它', inplace=True)\n",
    "data1['大类'].value_counts()\n"
   ]
  },
  {
   "cell_type": "code",
   "execution_count": 11,
   "metadata": {},
   "outputs": [],
   "source": [
    "# 修改data1的列名\n",
    "data1.rename(columns={'注册省份': '省份', '注册城市': '城市',\n",
    "                      '汽修厂id（加密脱敏）': '客户id', '大类': '商品品类'}, inplace=True)\n"
   ]
  },
  {
   "cell_type": "code",
   "execution_count": 12,
   "metadata": {},
   "outputs": [
    {
     "name": "stdout",
     "output_type": "stream",
     "text": [
      "************data1前3行*************\n",
      "       支付月                支付时间    大区  省份   城市    客户id       订单号  车品牌  \\\n",
      "0  2019-06 2019-06-27 17:10:24  华南大区  广东  肇庆市  666401  O4214957  雪佛兰   \n",
      "2  2019-06 2019-06-30 13:47:24  华南大区  广东  广州市  750947  O4228701   本田   \n",
      "3  2019-06 2019-06-26 13:34:29  华东大区  浙江  台州市  814324  O4206801   大众   \n",
      "\n",
      "        配件品牌 配件品质       标准主名  商品销售数量  商品销售金额   商品品类  \n",
      "0  申通_SRUMTO   国内   水箱导流板（下）       1    35.0   发动机件  \n",
      "2         俊誉   国内  前大灯半总成（左）       1   318.0   电气设备  \n",
      "3         尚配   国内       水箱框架       1   199.0  车身及附件  \n",
      "************data1各列信息************\n",
      "<class 'pandas.core.frame.DataFrame'>\n",
      "Int64Index: 807206 entries, 0 to 936685\n",
      "Data columns (total 14 columns):\n",
      "支付月       807206 non-null object\n",
      "支付时间      807206 non-null datetime64[ns]\n",
      "大区        807206 non-null object\n",
      "省份        807206 non-null object\n",
      "城市        807206 non-null object\n",
      "客户id      807206 non-null int64\n",
      "订单号       807206 non-null object\n",
      "车品牌       807206 non-null object\n",
      "配件品牌      807206 non-null object\n",
      "配件品质      807206 non-null object\n",
      "标准主名      807206 non-null object\n",
      "商品销售数量    807206 non-null int64\n",
      "商品销售金额    807206 non-null float64\n",
      "商品品类      807206 non-null object\n",
      "dtypes: datetime64[ns](1), float64(1), int64(2), object(10)\n",
      "memory usage: 92.4+ MB\n",
      "None \n",
      " \n",
      "\n"
     ]
    }
   ],
   "source": [
    "# 去掉缺失值\n",
    "data1.dropna(axis=0, how='any', inplace=True)\n",
    "check_file(data1, 'data1')\n"
   ]
  },
  {
   "cell_type": "code",
   "execution_count": 13,
   "metadata": {},
   "outputs": [
    {
     "data": {
      "text/plain": [
       "array(['发动机件', '电气设备', '车身及附件', '底盘件'], dtype=object)"
      ]
     },
     "execution_count": 13,
     "metadata": {},
     "output_type": "execute_result"
    }
   ],
   "source": [
    "# 删掉商品品类中的‘其它’和‘照明及电器件’\n",
    "data1.drop(index=(data1.loc[(data1['商品品类'] == '其它')].index), inplace=True)\n",
    "data1.drop(index=(data1.loc[(data1['商品品类'] == '照明及电器件')].index), inplace=True)\n",
    "data1['商品品类'].unique()\n"
   ]
  },
  {
   "cell_type": "code",
   "execution_count": 14,
   "metadata": {},
   "outputs": [],
   "source": [
    "#图表中文标签显示\n",
    "mpl.rcParams['font.sans-serif'] = ['SimHei']\n"
   ]
  },
  {
   "cell_type": "markdown",
   "metadata": {},
   "source": [
    "## 四、分析问题"
   ]
  },
  {
   "cell_type": "code",
   "execution_count": 40,
   "metadata": {},
   "outputs": [
    {
     "data": {
      "image/png": "[encoded data removed]",
      "text/plain": [
       "<Figure size 864x432 with 1 Axes>"
      ]
     },
     "metadata": {},
     "output_type": "display_data"
    }
   ],
   "source": [
    "# 四大区域的总体销售占比\n",
    "sales_region = data1.groupby('大区')['订单号'].count().sort_values(ascending=False)\n",
    "names = [u'华南大区', u'华东大区', u'华北大区', u'华中大区']\n",
    "colors = ['#B6E2D3', '#74BDCB', '#FFA384', '#EFE7BC']\n",
    "plt.figure(figsize=(12, 6))\n",
    "plt.pie(sales_region, labels=names, colors=colors, autopct='%.1f%%')\n",
    "plt.title(u'四大区域销售占比', fontsize=18)\n",
    "plt.show()\n"
   ]
  },
  {
   "cell_type": "markdown",
   "metadata": {},
   "source": [
    "华南大区的销售量占总体销售量的88%，说明该公司的主要市场在华南，华东作为后期主要拓展的方向。"
   ]
  },
  {
   "cell_type": "markdown",
   "metadata": {},
   "source": [
    "  "
   ]
  },
  {
   "cell_type": "code",
   "execution_count": 16,
   "metadata": {},
   "outputs": [
    {
     "data": {
      "image/png": "[encoded data removed]",
      "text/plain": [
       "<Figure size 864x432 with 1 Axes>"
      ]
     },
     "metadata": {
      "needs_background": "light"
     },
     "output_type": "display_data"
    }
   ],
   "source": [
    "# 各省订单数量\n",
    "province = data1.groupby('省份')['订单号'].count().sort_values(ascending=False)\n",
    "index = np.arange(22)\n",
    "plt.figure(figsize=(12, 6))\n",
    "plt.bar(index, province.values, 0.5, color='#FFA07A', label=u'订单数')\n",
    "plt.xticks(index, [u'广东', u'广西', u'福建', u'浙江', u'江苏', u'江西', u'贵州', u'湖北', u'海南', u'湖南',\n",
    "                   u'山东', u'河北', u'天津', u'山西', u'辽宁', u'安徽', u'河南', u'内蒙古', u'北京', u'上海', u'云南', u'新疆'])\n",
    "plt.xlabel(u'省份')\n",
    "plt.ylabel(u'数量')\n",
    "plt.legend([u'订单号', ], loc='upper right')  # 元组加逗号 使图例显示完整\n",
    "plt.title(u'各省份订单数量', fontsize=18)\n",
    "plt.grid(color='#95a5a6', linestyle='--', linewidth=1, axis='y', alpha=0.5)\n",
    "plt.show()\n"
   ]
  },
  {
   "cell_type": "code",
   "execution_count": 17,
   "metadata": {},
   "outputs": [
    {
     "data": {
      "image/png": "[encoded data removed]",
      "text/plain": [
       "<Figure size 864x432 with 1 Axes>"
      ]
     },
     "metadata": {
      "needs_background": "light"
     },
     "output_type": "display_data"
    }
   ],
   "source": [
    "# 各省消费金额\n",
    "sales_province = data1.groupby(\n",
    "    '省份')['商品销售金额'].sum().sort_values(ascending=False)\n",
    "index = np.arange(22)\n",
    "plt.figure(figsize=(12, 6))\n",
    "plt.bar(index, sales_province.values, 0.5, color='#8fbc8f', label=u'订单数')\n",
    "plt.xticks(index, [u'广东', u'广西', u'福建', u'浙江', u'江苏', u'江西', u'贵州', u'湖北', u'海南', u'湖南',\n",
    "                   u'山东', u'河北', u'天津', u'山西', u'辽宁', u'安徽', u'河南', u'内蒙古', u'北京', u'上海', u'云南', u'新疆'])\n",
    "plt.xlabel(u'省份')  # plt.xlabel('时间',fontproperties = 'SimHei',fontsize = 20)\n",
    "plt.ylabel(u'商品销售金额')\n",
    "plt.legend([u'商品销售金额', ], loc='upper right')  # 元组加逗号 使图例显示完整\n",
    "plt.title(u'各省消费金额', fontsize=18)\n",
    "plt.grid(color='#95a5a6', linestyle='--', linewidth=1, axis='y', alpha=0.5)\n",
    "plt.show()\n"
   ]
  },
  {
   "cell_type": "markdown",
   "metadata": {},
   "source": [
    "广东、广西、福建的订单量较大，两广地区超过10万单，福建接近10万；因此消费金额也只有这三个省份达到了2000万元以上。"
   ]
  },
  {
   "cell_type": "markdown",
   "metadata": {},
   "source": [
    "  "
   ]
  },
  {
   "cell_type": "code",
   "execution_count": 18,
   "metadata": {},
   "outputs": [
    {
     "data": {
      "text/plain": [
       "省份\n",
       "广东     455325\n",
       "广西      98683\n",
       "福建      88944\n",
       "浙江      31676\n",
       "江苏      18991\n",
       "江西      14868\n",
       "贵州      13292\n",
       "海南      11401\n",
       "湖北      11146\n",
       "湖南       9627\n",
       "山东       5091\n",
       "河北       4414\n",
       "天津       4276\n",
       "山西       2727\n",
       "辽宁       2505\n",
       "安徽       2243\n",
       "河南       1124\n",
       "内蒙古      1103\n",
       "北京        566\n",
       "上海         46\n",
       "云南         45\n",
       "新疆          1\n",
       "Name: 客户id, dtype: int64"
      ]
     },
     "execution_count": 18,
     "metadata": {},
     "output_type": "execute_result"
    }
   ],
   "source": [
    "# 各省份消费用户数量\n",
    "sales_province_num = data1.groupby(\n",
    "    '省份')['客户id'].count().sort_values(ascending=False)\n",
    "sales_province_num\n"
   ]
  },
  {
   "cell_type": "code",
   "execution_count": 19,
   "metadata": {},
   "outputs": [
    {
     "data": {
      "image/png": "[encoded data removed]",
      "text/plain": [
       "<Figure size 864x432 with 1 Axes>"
      ]
     },
     "metadata": {
      "needs_background": "light"
     },
     "output_type": "display_data"
    }
   ],
   "source": [
    "sales_province_avg = (data1.groupby('省份')['商品销售金额'].sum(\n",
    ")/data1.groupby('省份')['客户id'].count()).sort_values(ascending=False)\n",
    "index = np.arange(22)\n",
    "plt.figure(figsize=(12, 6))\n",
    "plt.bar(index, sales_province_avg.values, 0.5, color='#6aa5e1', label=u'人均消费')\n",
    "plt.xticks(index, [u'上海', u'山东', u'云南', u'辽宁', u'山西', u'天津', u'江苏', u'湖北', u'河北', u'湖南',\n",
    "                   u'贵州', u'北京', u'河南', u'海南', u'内蒙古', u'江西', u'安徽', u'福建', u'广东', u'浙江', u'广西', u'新疆'])\n",
    "plt.xlabel(u'省份')  # plt.xlabel('时间',fontproperties = 'SimHei',fontsize = 20)\n",
    "plt.ylabel(u'人均消费金额')\n",
    "plt.legend([u'人均消费金额', ], loc='upper right')  # 元组加逗号 使图例显示完整\n",
    "plt.title(u'各省人均消费金额', fontsize=18)\n",
    "plt.grid(color='#95a5a6', linestyle='--', linewidth=1, axis='y', alpha=0.5)\n",
    "plt.show()\n"
   ]
  },
  {
   "cell_type": "markdown",
   "metadata": {},
   "source": [
    "上海的人均消费金额排名第一，达到了4000元，说明上海的人均消费水平较高，购买的配件金额较高，但消费人数仅有46人。"
   ]
  },
  {
   "cell_type": "markdown",
   "metadata": {},
   "source": [
    "  "
   ]
  },
  {
   "cell_type": "code",
   "execution_count": 47,
   "metadata": {},
   "outputs": [
    {
     "data": {
      "image/png": "[encoded data removed]",
      "text/plain": [
       "<Figure size 864x432 with 1 Axes>"
      ]
     },
     "metadata": {},
     "output_type": "display_data"
    }
   ],
   "source": [
    "# 消费品类\n",
    "sales_category_num = data1.groupby(\n",
    "    '商品品类')['订单号'].count().sort_values(ascending=False)\n",
    "category_names = [u'车身及附件', u'发动机件', u'底盘件', u'电气设备']\n",
    "colors = ['#B6E2D3', '#74BDCB', '#FFA384', '#EFE7BC']\n",
    "plt.figure(figsize=(12, 6))\n",
    "plt.pie(sales_category_num, labels=category_names,\n",
    "        colors=colors, autopct='%1.1f%%')\n",
    "plt.title(u'各品类销售比', fontsize=18)\n",
    "plt.show()\n"
   ]
  },
  {
   "cell_type": "markdown",
   "metadata": {},
   "source": [
    "以上可知，车身及附件的销量是最多的，但是产品贡献度往往需要考虑销售额，所以我们需要进一步对各个产品的销售额做帕累托分析。"
   ]
  },
  {
   "cell_type": "markdown",
   "metadata": {},
   "source": [
    "  "
   ]
  },
  {
   "cell_type": "code",
   "execution_count": 48,
   "metadata": {},
   "outputs": [],
   "source": [
    "# 对各个品类的销售额做帕累托分析\n",
    "sales_category = data1.groupby('商品品类')['商品销售金额'].sum(\n",
    ").sort_values(ascending=False).reset_index()\n",
    "sales_category.loc[4] = ['', 0]"
   ]
  },
  {
   "cell_type": "code",
   "execution_count": 22,
   "metadata": {},
   "outputs": [
    {
     "data": {
      "image/png": "[encoded data removed]",
      "text/plain": [
       "<Figure size 720x432 with 2 Axes>"
      ]
     },
     "metadata": {
      "needs_background": "light"
     },
     "output_type": "display_data"
    }
   ],
   "source": [
    "index = np.arange(len(sales_category))\n",
    "x_category = np.array(list(sales_category['商品品类']))\n",
    "y_sale = np.array(list(sales_category['商品销售金额']))\n",
    "plt.figure(figsize=(10, 6))\n",
    "plt.bar(index+0.5, y_sale, width=0.3, color='darkseagreen')\n",
    "plt.xticks(index+0.5, sales_category['商品品类'])\n",
    "plt.xlabel('品类')\n",
    "plt.ylabel('销售金额')\n",
    "plt.title('各品类销售金额', fontsize=18)\n",
    "for a, b in zip(index, y_sale):\n",
    "    plt.text(a+0.5, b+0.05, '%.0f' % b, ha='center',\n",
    "             va='bottom', fontsize=12)  # 添加数据标签\n",
    "p1 = 1.0*y_sale.cumsum()/y_sale.sum()\n",
    "p2 = pd.Series(p1)\n",
    "p2.plot(color='#FFA07A', secondary_y=True, style='-o', linewidth=2)\n",
    "plt.ylabel(u'销售金额比例')\n",
    "plt.annotate(format(p2[2], '.2%'), xy=(2, p2[2]), xytext=(\n",
    "    2*0.9, p2[2]*0.9), arrowprops=dict(arrowstyle='->', connectionstyle=\"arc3,rad=.2\"), fontsize=12)  # annotate（注解）\n",
    "plt.show()\n",
    "\n"
   ]
  },
  {
   "cell_type": "markdown",
   "metadata": {},
   "source": [
    "结果显示车身及附件，电气设备，底盘件三种产品的总销售额就达到了所有品类产品销售总额的82.5%。  \n",
    "知道了各品类的产品对销售额的贡献度，我们还可以再进一步分析，各省份的不同品类产品的销售情况，分析一下每个省份的客户购买品类是否有偏好。"
   ]
  },
  {
   "cell_type": "markdown",
   "metadata": {},
   "source": [
    "  "
   ]
  },
  {
   "cell_type": "code",
   "execution_count": 23,
   "metadata": {},
   "outputs": [
    {
     "data": {
      "text/html": [
       "<style  type=\"text/css\" >\n",
       "    #T_91d6f968_1276_11ea_89d6_d6c9a358ce72row0_col0 {\n",
       "            background-color:  #ffe5e5;\n",
       "            color:  #000000;\n",
       "        }    #T_91d6f968_1276_11ea_89d6_d6c9a358ce72row0_col1 {\n",
       "            background-color:  #ffe5e5;\n",
       "            color:  #000000;\n",
       "        }    #T_91d6f968_1276_11ea_89d6_d6c9a358ce72row0_col2 {\n",
       "            background-color:  #ffe5e5;\n",
       "            color:  #000000;\n",
       "        }    #T_91d6f968_1276_11ea_89d6_d6c9a358ce72row0_col3 {\n",
       "            background-color:  #ffe5e5;\n",
       "            color:  #000000;\n",
       "        }    #T_91d6f968_1276_11ea_89d6_d6c9a358ce72row1_col0 {\n",
       "            background-color:  #ffe5e5;\n",
       "            color:  #000000;\n",
       "        }    #T_91d6f968_1276_11ea_89d6_d6c9a358ce72row1_col1 {\n",
       "            background-color:  #ffe5e5;\n",
       "            color:  #000000;\n",
       "        }    #T_91d6f968_1276_11ea_89d6_d6c9a358ce72row1_col2 {\n",
       "            background-color:  #ffe5e5;\n",
       "            color:  #000000;\n",
       "        }    #T_91d6f968_1276_11ea_89d6_d6c9a358ce72row1_col3 {\n",
       "            background-color:  #ffe5e5;\n",
       "            color:  #000000;\n",
       "        }    #T_91d6f968_1276_11ea_89d6_d6c9a358ce72row2_col0 {\n",
       "            background-color:  #ffe5e5;\n",
       "            color:  #000000;\n",
       "        }    #T_91d6f968_1276_11ea_89d6_d6c9a358ce72row2_col1 {\n",
       "            background-color:  #ffe5e5;\n",
       "            color:  #000000;\n",
       "        }    #T_91d6f968_1276_11ea_89d6_d6c9a358ce72row2_col2 {\n",
       "            background-color:  #ffe5e5;\n",
       "            color:  #000000;\n",
       "        }    #T_91d6f968_1276_11ea_89d6_d6c9a358ce72row2_col3 {\n",
       "            background-color:  #ffe5e5;\n",
       "            color:  #000000;\n",
       "        }    #T_91d6f968_1276_11ea_89d6_d6c9a358ce72row3_col0 {\n",
       "            background-color:  #ffe5e5;\n",
       "            color:  #000000;\n",
       "        }    #T_91d6f968_1276_11ea_89d6_d6c9a358ce72row3_col1 {\n",
       "            background-color:  #ffe5e5;\n",
       "            color:  #000000;\n",
       "        }    #T_91d6f968_1276_11ea_89d6_d6c9a358ce72row3_col2 {\n",
       "            background-color:  #ffe5e5;\n",
       "            color:  #000000;\n",
       "        }    #T_91d6f968_1276_11ea_89d6_d6c9a358ce72row3_col3 {\n",
       "            background-color:  #ffe5e5;\n",
       "            color:  #000000;\n",
       "        }    #T_91d6f968_1276_11ea_89d6_d6c9a358ce72row4_col0 {\n",
       "            background-color:  #ffe2e2;\n",
       "            color:  #000000;\n",
       "        }    #T_91d6f968_1276_11ea_89d6_d6c9a358ce72row4_col1 {\n",
       "            background-color:  #ffe3e3;\n",
       "            color:  #000000;\n",
       "        }    #T_91d6f968_1276_11ea_89d6_d6c9a358ce72row4_col2 {\n",
       "            background-color:  #ffe2e2;\n",
       "            color:  #000000;\n",
       "        }    #T_91d6f968_1276_11ea_89d6_d6c9a358ce72row4_col3 {\n",
       "            background-color:  #ffe3e3;\n",
       "            color:  #000000;\n",
       "        }    #T_91d6f968_1276_11ea_89d6_d6c9a358ce72row5_col0 {\n",
       "            background-color:  #ffe5e5;\n",
       "            color:  #000000;\n",
       "        }    #T_91d6f968_1276_11ea_89d6_d6c9a358ce72row5_col1 {\n",
       "            background-color:  #ffe5e5;\n",
       "            color:  #000000;\n",
       "        }    #T_91d6f968_1276_11ea_89d6_d6c9a358ce72row5_col2 {\n",
       "            background-color:  #ffe5e5;\n",
       "            color:  #000000;\n",
       "        }    #T_91d6f968_1276_11ea_89d6_d6c9a358ce72row5_col3 {\n",
       "            background-color:  #ffe5e5;\n",
       "            color:  #000000;\n",
       "        }    #T_91d6f968_1276_11ea_89d6_d6c9a358ce72row6_col0 {\n",
       "            background-color:  #ffdfdf;\n",
       "            color:  #000000;\n",
       "        }    #T_91d6f968_1276_11ea_89d6_d6c9a358ce72row6_col1 {\n",
       "            background-color:  #ffe0e0;\n",
       "            color:  #000000;\n",
       "        }    #T_91d6f968_1276_11ea_89d6_d6c9a358ce72row6_col2 {\n",
       "            background-color:  #ffdddd;\n",
       "            color:  #000000;\n",
       "        }    #T_91d6f968_1276_11ea_89d6_d6c9a358ce72row6_col3 {\n",
       "            background-color:  #ffdfdf;\n",
       "            color:  #000000;\n",
       "        }    #T_91d6f968_1276_11ea_89d6_d6c9a358ce72row7_col0 {\n",
       "            background-color:  #ffe5e5;\n",
       "            color:  #000000;\n",
       "        }    #T_91d6f968_1276_11ea_89d6_d6c9a358ce72row7_col1 {\n",
       "            background-color:  #ffe5e5;\n",
       "            color:  #000000;\n",
       "        }    #T_91d6f968_1276_11ea_89d6_d6c9a358ce72row7_col2 {\n",
       "            background-color:  #ffe4e4;\n",
       "            color:  #000000;\n",
       "        }    #T_91d6f968_1276_11ea_89d6_d6c9a358ce72row7_col3 {\n",
       "            background-color:  #ffe3e3;\n",
       "            color:  #000000;\n",
       "        }    #T_91d6f968_1276_11ea_89d6_d6c9a358ce72row8_col0 {\n",
       "            background-color:  #ff0000;\n",
       "            color:  #f1f1f1;\n",
       "        }    #T_91d6f968_1276_11ea_89d6_d6c9a358ce72row8_col1 {\n",
       "            background-color:  #ff0000;\n",
       "            color:  #f1f1f1;\n",
       "        }    #T_91d6f968_1276_11ea_89d6_d6c9a358ce72row8_col2 {\n",
       "            background-color:  #ff0000;\n",
       "            color:  #f1f1f1;\n",
       "        }    #T_91d6f968_1276_11ea_89d6_d6c9a358ce72row8_col3 {\n",
       "            background-color:  #ff0000;\n",
       "            color:  #f1f1f1;\n",
       "        }    #T_91d6f968_1276_11ea_89d6_d6c9a358ce72row9_col0 {\n",
       "            background-color:  #ffb7b7;\n",
       "            color:  #000000;\n",
       "        }    #T_91d6f968_1276_11ea_89d6_d6c9a358ce72row9_col1 {\n",
       "            background-color:  #ffb6b6;\n",
       "            color:  #000000;\n",
       "        }    #T_91d6f968_1276_11ea_89d6_d6c9a358ce72row9_col2 {\n",
       "            background-color:  #ffbbbb;\n",
       "            color:  #000000;\n",
       "        }    #T_91d6f968_1276_11ea_89d6_d6c9a358ce72row9_col3 {\n",
       "            background-color:  #ffbcbc;\n",
       "            color:  #000000;\n",
       "        }    #T_91d6f968_1276_11ea_89d6_d6c9a358ce72row10_col0 {\n",
       "            background-color:  #ffe5e5;\n",
       "            color:  #000000;\n",
       "        }    #T_91d6f968_1276_11ea_89d6_d6c9a358ce72row10_col1 {\n",
       "            background-color:  #ffe5e5;\n",
       "            color:  #000000;\n",
       "        }    #T_91d6f968_1276_11ea_89d6_d6c9a358ce72row10_col2 {\n",
       "            background-color:  #ffe5e5;\n",
       "            color:  #000000;\n",
       "        }    #T_91d6f968_1276_11ea_89d6_d6c9a358ce72row10_col3 {\n",
       "            background-color:  #ffe5e5;\n",
       "            color:  #000000;\n",
       "        }    #T_91d6f968_1276_11ea_89d6_d6c9a358ce72row11_col0 {\n",
       "            background-color:  #ffcfcf;\n",
       "            color:  #000000;\n",
       "        }    #T_91d6f968_1276_11ea_89d6_d6c9a358ce72row11_col1 {\n",
       "            background-color:  #ffd9d9;\n",
       "            color:  #000000;\n",
       "        }    #T_91d6f968_1276_11ea_89d6_d6c9a358ce72row11_col2 {\n",
       "            background-color:  #ffdada;\n",
       "            color:  #000000;\n",
       "        }    #T_91d6f968_1276_11ea_89d6_d6c9a358ce72row11_col3 {\n",
       "            background-color:  #ffdcdc;\n",
       "            color:  #000000;\n",
       "        }    #T_91d6f968_1276_11ea_89d6_d6c9a358ce72row12_col0 {\n",
       "            background-color:  #ffdada;\n",
       "            color:  #000000;\n",
       "        }    #T_91d6f968_1276_11ea_89d6_d6c9a358ce72row12_col1 {\n",
       "            background-color:  #ffd9d9;\n",
       "            color:  #000000;\n",
       "        }    #T_91d6f968_1276_11ea_89d6_d6c9a358ce72row12_col2 {\n",
       "            background-color:  #ffdfdf;\n",
       "            color:  #000000;\n",
       "        }    #T_91d6f968_1276_11ea_89d6_d6c9a358ce72row12_col3 {\n",
       "            background-color:  #ffe0e0;\n",
       "            color:  #000000;\n",
       "        }    #T_91d6f968_1276_11ea_89d6_d6c9a358ce72row13_col0 {\n",
       "            background-color:  #ffe2e2;\n",
       "            color:  #000000;\n",
       "        }    #T_91d6f968_1276_11ea_89d6_d6c9a358ce72row13_col1 {\n",
       "            background-color:  #ffe3e3;\n",
       "            color:  #000000;\n",
       "        }    #T_91d6f968_1276_11ea_89d6_d6c9a358ce72row13_col2 {\n",
       "            background-color:  #ffe3e3;\n",
       "            color:  #000000;\n",
       "        }    #T_91d6f968_1276_11ea_89d6_d6c9a358ce72row13_col3 {\n",
       "            background-color:  #ffe3e3;\n",
       "            color:  #000000;\n",
       "        }    #T_91d6f968_1276_11ea_89d6_d6c9a358ce72row14_col0 {\n",
       "            background-color:  #ffe5e5;\n",
       "            color:  #000000;\n",
       "        }    #T_91d6f968_1276_11ea_89d6_d6c9a358ce72row14_col1 {\n",
       "            background-color:  #ffe5e5;\n",
       "            color:  #000000;\n",
       "        }    #T_91d6f968_1276_11ea_89d6_d6c9a358ce72row14_col2 {\n",
       "            background-color:  #ffe5e5;\n",
       "            color:  #000000;\n",
       "        }    #T_91d6f968_1276_11ea_89d6_d6c9a358ce72row14_col3 {\n",
       "            background-color:  #ffe5e5;\n",
       "            color:  #000000;\n",
       "        }    #T_91d6f968_1276_11ea_89d6_d6c9a358ce72row15_col0 {\n",
       "            background-color:  #ffcece;\n",
       "            color:  #000000;\n",
       "        }    #T_91d6f968_1276_11ea_89d6_d6c9a358ce72row15_col1 {\n",
       "            background-color:  #ffd4d4;\n",
       "            color:  #000000;\n",
       "        }    #T_91d6f968_1276_11ea_89d6_d6c9a358ce72row15_col2 {\n",
       "            background-color:  #ffd6d6;\n",
       "            color:  #000000;\n",
       "        }    #T_91d6f968_1276_11ea_89d6_d6c9a358ce72row15_col3 {\n",
       "            background-color:  #ffdada;\n",
       "            color:  #000000;\n",
       "        }    #T_91d6f968_1276_11ea_89d6_d6c9a358ce72row16_col0 {\n",
       "            background-color:  #ffdfdf;\n",
       "            color:  #000000;\n",
       "        }    #T_91d6f968_1276_11ea_89d6_d6c9a358ce72row16_col1 {\n",
       "            background-color:  #ffe0e0;\n",
       "            color:  #000000;\n",
       "        }    #T_91d6f968_1276_11ea_89d6_d6c9a358ce72row16_col2 {\n",
       "            background-color:  #ffdede;\n",
       "            color:  #000000;\n",
       "        }    #T_91d6f968_1276_11ea_89d6_d6c9a358ce72row16_col3 {\n",
       "            background-color:  #ffdddd;\n",
       "            color:  #000000;\n",
       "        }    #T_91d6f968_1276_11ea_89d6_d6c9a358ce72row17_col0 {\n",
       "            background-color:  #ffdcdc;\n",
       "            color:  #000000;\n",
       "        }    #T_91d6f968_1276_11ea_89d6_d6c9a358ce72row17_col1 {\n",
       "            background-color:  #ffdcdc;\n",
       "            color:  #000000;\n",
       "        }    #T_91d6f968_1276_11ea_89d6_d6c9a358ce72row17_col2 {\n",
       "            background-color:  #ffdede;\n",
       "            color:  #000000;\n",
       "        }    #T_91d6f968_1276_11ea_89d6_d6c9a358ce72row17_col3 {\n",
       "            background-color:  #ffdede;\n",
       "            color:  #000000;\n",
       "        }    #T_91d6f968_1276_11ea_89d6_d6c9a358ce72row18_col0 {\n",
       "            background-color:  #ffdddd;\n",
       "            color:  #000000;\n",
       "        }    #T_91d6f968_1276_11ea_89d6_d6c9a358ce72row18_col1 {\n",
       "            background-color:  #ffdddd;\n",
       "            color:  #000000;\n",
       "        }    #T_91d6f968_1276_11ea_89d6_d6c9a358ce72row18_col2 {\n",
       "            background-color:  #ffe0e0;\n",
       "            color:  #000000;\n",
       "        }    #T_91d6f968_1276_11ea_89d6_d6c9a358ce72row18_col3 {\n",
       "            background-color:  #ffe0e0;\n",
       "            color:  #000000;\n",
       "        }    #T_91d6f968_1276_11ea_89d6_d6c9a358ce72row19_col0 {\n",
       "            background-color:  #ffb5b5;\n",
       "            color:  #000000;\n",
       "        }    #T_91d6f968_1276_11ea_89d6_d6c9a358ce72row19_col1 {\n",
       "            background-color:  #ffb9b9;\n",
       "            color:  #000000;\n",
       "        }    #T_91d6f968_1276_11ea_89d6_d6c9a358ce72row19_col2 {\n",
       "            background-color:  #ffb8b8;\n",
       "            color:  #000000;\n",
       "        }    #T_91d6f968_1276_11ea_89d6_d6c9a358ce72row19_col3 {\n",
       "            background-color:  #ffb9b9;\n",
       "            color:  #000000;\n",
       "        }    #T_91d6f968_1276_11ea_89d6_d6c9a358ce72row20_col0 {\n",
       "            background-color:  #ffdada;\n",
       "            color:  #000000;\n",
       "        }    #T_91d6f968_1276_11ea_89d6_d6c9a358ce72row20_col1 {\n",
       "            background-color:  #ffdada;\n",
       "            color:  #000000;\n",
       "        }    #T_91d6f968_1276_11ea_89d6_d6c9a358ce72row20_col2 {\n",
       "            background-color:  #ffdede;\n",
       "            color:  #000000;\n",
       "        }    #T_91d6f968_1276_11ea_89d6_d6c9a358ce72row20_col3 {\n",
       "            background-color:  #ffdddd;\n",
       "            color:  #000000;\n",
       "        }    #T_91d6f968_1276_11ea_89d6_d6c9a358ce72row21_col0 {\n",
       "            background-color:  #ffe4e4;\n",
       "            color:  #000000;\n",
       "        }    #T_91d6f968_1276_11ea_89d6_d6c9a358ce72row21_col1 {\n",
       "            background-color:  #ffe4e4;\n",
       "            color:  #000000;\n",
       "        }    #T_91d6f968_1276_11ea_89d6_d6c9a358ce72row21_col2 {\n",
       "            background-color:  #ffe4e4;\n",
       "            color:  #000000;\n",
       "        }    #T_91d6f968_1276_11ea_89d6_d6c9a358ce72row21_col3 {\n",
       "            background-color:  #ffe3e3;\n",
       "            color:  #000000;\n",
       "        }</style><table id=\"T_91d6f968_1276_11ea_89d6_d6c9a358ce72\" ><thead>    <tr>        <th class=\"blank level0\" ></th>        <th class=\"col_heading level0 col0\" >发动机件</th>        <th class=\"col_heading level0 col1\" >底盘件</th>        <th class=\"col_heading level0 col2\" >电气设备</th>        <th class=\"col_heading level0 col3\" >车身及附件</th>    </tr></thead><tbody>\n",
       "                <tr>\n",
       "                        <th id=\"T_91d6f968_1276_11ea_89d6_d6c9a358ce72level0_row0\" class=\"row_heading level0 row0\" >上海</th>\n",
       "                        <td id=\"T_91d6f968_1276_11ea_89d6_d6c9a358ce72row0_col0\" class=\"data row0 col0\" >2961</td>\n",
       "                        <td id=\"T_91d6f968_1276_11ea_89d6_d6c9a358ce72row0_col1\" class=\"data row0 col1\" >65388</td>\n",
       "                        <td id=\"T_91d6f968_1276_11ea_89d6_d6c9a358ce72row0_col2\" class=\"data row0 col2\" >44991</td>\n",
       "                        <td id=\"T_91d6f968_1276_11ea_89d6_d6c9a358ce72row0_col3\" class=\"data row0 col3\" >70745</td>\n",
       "            </tr>\n",
       "            <tr>\n",
       "                        <th id=\"T_91d6f968_1276_11ea_89d6_d6c9a358ce72level0_row1\" class=\"row_heading level0 row1\" >云南</th>\n",
       "                        <td id=\"T_91d6f968_1276_11ea_89d6_d6c9a358ce72row1_col0\" class=\"data row1 col0\" >4883</td>\n",
       "                        <td id=\"T_91d6f968_1276_11ea_89d6_d6c9a358ce72row1_col1\" class=\"data row1 col1\" >1598</td>\n",
       "                        <td id=\"T_91d6f968_1276_11ea_89d6_d6c9a358ce72row1_col2\" class=\"data row1 col2\" >7642</td>\n",
       "                        <td id=\"T_91d6f968_1276_11ea_89d6_d6c9a358ce72row1_col3\" class=\"data row1 col3\" >13149</td>\n",
       "            </tr>\n",
       "            <tr>\n",
       "                        <th id=\"T_91d6f968_1276_11ea_89d6_d6c9a358ce72level0_row2\" class=\"row_heading level0 row2\" >内蒙古</th>\n",
       "                        <td id=\"T_91d6f968_1276_11ea_89d6_d6c9a358ce72row2_col0\" class=\"data row2 col0\" >79519</td>\n",
       "                        <td id=\"T_91d6f968_1276_11ea_89d6_d6c9a358ce72row2_col1\" class=\"data row2 col1\" >69358</td>\n",
       "                        <td id=\"T_91d6f968_1276_11ea_89d6_d6c9a358ce72row2_col2\" class=\"data row2 col2\" >81660</td>\n",
       "                        <td id=\"T_91d6f968_1276_11ea_89d6_d6c9a358ce72row2_col3\" class=\"data row2 col3\" >200961</td>\n",
       "            </tr>\n",
       "            <tr>\n",
       "                        <th id=\"T_91d6f968_1276_11ea_89d6_d6c9a358ce72level0_row3\" class=\"row_heading level0 row3\" >北京</th>\n",
       "                        <td id=\"T_91d6f968_1276_11ea_89d6_d6c9a358ce72row3_col0\" class=\"data row3 col0\" >49703</td>\n",
       "                        <td id=\"T_91d6f968_1276_11ea_89d6_d6c9a358ce72row3_col1\" class=\"data row3 col1\" >25799</td>\n",
       "                        <td id=\"T_91d6f968_1276_11ea_89d6_d6c9a358ce72row3_col2\" class=\"data row3 col2\" >55975</td>\n",
       "                        <td id=\"T_91d6f968_1276_11ea_89d6_d6c9a358ce72row3_col3\" class=\"data row3 col3\" >99816</td>\n",
       "            </tr>\n",
       "            <tr>\n",
       "                        <th id=\"T_91d6f968_1276_11ea_89d6_d6c9a358ce72level0_row4\" class=\"row_heading level0 row4\" >天津</th>\n",
       "                        <td id=\"T_91d6f968_1276_11ea_89d6_d6c9a358ce72row4_col0\" class=\"data row4 col0\" >436455</td>\n",
       "                        <td id=\"T_91d6f968_1276_11ea_89d6_d6c9a358ce72row4_col1\" class=\"data row4 col1\" >371727</td>\n",
       "                        <td id=\"T_91d6f968_1276_11ea_89d6_d6c9a358ce72row4_col2\" class=\"data row4 col2\" >591686</td>\n",
       "                        <td id=\"T_91d6f968_1276_11ea_89d6_d6c9a358ce72row4_col3\" class=\"data row4 col3\" >913782</td>\n",
       "            </tr>\n",
       "            <tr>\n",
       "                        <th id=\"T_91d6f968_1276_11ea_89d6_d6c9a358ce72level0_row5\" class=\"row_heading level0 row5\" >安徽</th>\n",
       "                        <td id=\"T_91d6f968_1276_11ea_89d6_d6c9a358ce72row5_col0\" class=\"data row5 col0\" >157447</td>\n",
       "                        <td id=\"T_91d6f968_1276_11ea_89d6_d6c9a358ce72row5_col1\" class=\"data row5 col1\" >127773</td>\n",
       "                        <td id=\"T_91d6f968_1276_11ea_89d6_d6c9a358ce72row5_col2\" class=\"data row5 col2\" >173724</td>\n",
       "                        <td id=\"T_91d6f968_1276_11ea_89d6_d6c9a358ce72row5_col3\" class=\"data row5 col3\" >319974</td>\n",
       "            </tr>\n",
       "            <tr>\n",
       "                        <th id=\"T_91d6f968_1276_11ea_89d6_d6c9a358ce72level0_row6\" class=\"row_heading level0 row6\" >山东</th>\n",
       "                        <td id=\"T_91d6f968_1276_11ea_89d6_d6c9a358ce72row6_col0\" class=\"data row6 col0\" >712126</td>\n",
       "                        <td id=\"T_91d6f968_1276_11ea_89d6_d6c9a358ce72row6_col1\" class=\"data row6 col1\" >677689</td>\n",
       "                        <td id=\"T_91d6f968_1276_11ea_89d6_d6c9a358ce72row6_col2\" class=\"data row6 col2\" >1.24842e+06</td>\n",
       "                        <td id=\"T_91d6f968_1276_11ea_89d6_d6c9a358ce72row6_col3\" class=\"data row6 col3\" >1.77366e+06</td>\n",
       "            </tr>\n",
       "            <tr>\n",
       "                        <th id=\"T_91d6f968_1276_11ea_89d6_d6c9a358ce72level0_row7\" class=\"row_heading level0 row7\" >山西</th>\n",
       "                        <td id=\"T_91d6f968_1276_11ea_89d6_d6c9a358ce72row7_col0\" class=\"data row7 col0\" >142365</td>\n",
       "                        <td id=\"T_91d6f968_1276_11ea_89d6_d6c9a358ce72row7_col1\" class=\"data row7 col1\" >165292</td>\n",
       "                        <td id=\"T_91d6f968_1276_11ea_89d6_d6c9a358ce72row7_col2\" class=\"data row7 col2\" >277464</td>\n",
       "                        <td id=\"T_91d6f968_1276_11ea_89d6_d6c9a358ce72row7_col3\" class=\"data row7 col3\" >813125</td>\n",
       "            </tr>\n",
       "            <tr>\n",
       "                        <th id=\"T_91d6f968_1276_11ea_89d6_d6c9a358ce72level0_row8\" class=\"row_heading level0 row8\" >广东</th>\n",
       "                        <td id=\"T_91d6f968_1276_11ea_89d6_d6c9a358ce72row8_col0\" class=\"data row8 col0\" >2.32343e+07</td>\n",
       "                        <td id=\"T_91d6f968_1276_11ea_89d6_d6c9a358ce72row8_col1\" class=\"data row8 col1\" >2.66909e+07</td>\n",
       "                        <td id=\"T_91d6f968_1276_11ea_89d6_d6c9a358ce72row8_col2\" class=\"data row8 col2\" >3.46609e+07</td>\n",
       "                        <td id=\"T_91d6f968_1276_11ea_89d6_d6c9a358ce72row8_col3\" class=\"data row8 col3\" >5.91916e+07</td>\n",
       "            </tr>\n",
       "            <tr>\n",
       "                        <th id=\"T_91d6f968_1276_11ea_89d6_d6c9a358ce72level0_row9\" class=\"row_heading level0 row9\" >广西</th>\n",
       "                        <td id=\"T_91d6f968_1276_11ea_89d6_d6c9a358ce72row9_col0\" class=\"data row9 col0\" >4.79616e+06</td>\n",
       "                        <td id=\"T_91d6f968_1276_11ea_89d6_d6c9a358ce72row9_col1\" class=\"data row9 col1\" >5.585e+06</td>\n",
       "                        <td id=\"T_91d6f968_1276_11ea_89d6_d6c9a358ce72row9_col2\" class=\"data row9 col2\" >6.39742e+06</td>\n",
       "                        <td id=\"T_91d6f968_1276_11ea_89d6_d6c9a358ce72row9_col3\" class=\"data row9 col3\" >1.07026e+07</td>\n",
       "            </tr>\n",
       "            <tr>\n",
       "                        <th id=\"T_91d6f968_1276_11ea_89d6_d6c9a358ce72level0_row10\" class=\"row_heading level0 row10\" >新疆</th>\n",
       "                        <td id=\"T_91d6f968_1276_11ea_89d6_d6c9a358ce72row10_col0\" class=\"data row10 col0\" >0</td>\n",
       "                        <td id=\"T_91d6f968_1276_11ea_89d6_d6c9a358ce72row10_col1\" class=\"data row10 col1\" >0</td>\n",
       "                        <td id=\"T_91d6f968_1276_11ea_89d6_d6c9a358ce72row10_col2\" class=\"data row10 col2\" >107</td>\n",
       "                        <td id=\"T_91d6f968_1276_11ea_89d6_d6c9a358ce72row10_col3\" class=\"data row10 col3\" >0</td>\n",
       "            </tr>\n",
       "            <tr>\n",
       "                        <th id=\"T_91d6f968_1276_11ea_89d6_d6c9a358ce72level0_row11\" class=\"row_heading level0 row11\" >江苏</th>\n",
       "                        <td id=\"T_91d6f968_1276_11ea_89d6_d6c9a358ce72row11_col0\" class=\"data row11 col0\" >2.35597e+06</td>\n",
       "                        <td id=\"T_91d6f968_1276_11ea_89d6_d6c9a358ce72row11_col1\" class=\"data row11 col1\" >1.48936e+06</td>\n",
       "                        <td id=\"T_91d6f968_1276_11ea_89d6_d6c9a358ce72row11_col2\" class=\"data row11 col2\" >1.88196e+06</td>\n",
       "                        <td id=\"T_91d6f968_1276_11ea_89d6_d6c9a358ce72row11_col3\" class=\"data row11 col3\" >2.65727e+06</td>\n",
       "            </tr>\n",
       "            <tr>\n",
       "                        <th id=\"T_91d6f968_1276_11ea_89d6_d6c9a358ce72level0_row12\" class=\"row_heading level0 row12\" >江西</th>\n",
       "                        <td id=\"T_91d6f968_1276_11ea_89d6_d6c9a358ce72row12_col0\" class=\"data row12 col0\" >1.19111e+06</td>\n",
       "                        <td id=\"T_91d6f968_1276_11ea_89d6_d6c9a358ce72row12_col1\" class=\"data row12 col1\" >1.49225e+06</td>\n",
       "                        <td id=\"T_91d6f968_1276_11ea_89d6_d6c9a358ce72row12_col2\" class=\"data row12 col2\" >1.04792e+06</td>\n",
       "                        <td id=\"T_91d6f968_1276_11ea_89d6_d6c9a358ce72row12_col3\" class=\"data row12 col3\" >1.49284e+06</td>\n",
       "            </tr>\n",
       "            <tr>\n",
       "                        <th id=\"T_91d6f968_1276_11ea_89d6_d6c9a358ce72level0_row13\" class=\"row_heading level0 row13\" >河北</th>\n",
       "                        <td id=\"T_91d6f968_1276_11ea_89d6_d6c9a358ce72row13_col0\" class=\"data row13 col0\" >397871</td>\n",
       "                        <td id=\"T_91d6f968_1276_11ea_89d6_d6c9a358ce72row13_col1\" class=\"data row13 col1\" >413509</td>\n",
       "                        <td id=\"T_91d6f968_1276_11ea_89d6_d6c9a358ce72row13_col2\" class=\"data row13 col2\" >409250</td>\n",
       "                        <td id=\"T_91d6f968_1276_11ea_89d6_d6c9a358ce72row13_col3\" class=\"data row13 col3\" >820286</td>\n",
       "            </tr>\n",
       "            <tr>\n",
       "                        <th id=\"T_91d6f968_1276_11ea_89d6_d6c9a358ce72level0_row14\" class=\"row_heading level0 row14\" >河南</th>\n",
       "                        <td id=\"T_91d6f968_1276_11ea_89d6_d6c9a358ce72row14_col0\" class=\"data row14 col0\" >120211</td>\n",
       "                        <td id=\"T_91d6f968_1276_11ea_89d6_d6c9a358ce72row14_col1\" class=\"data row14 col1\" >104483</td>\n",
       "                        <td id=\"T_91d6f968_1276_11ea_89d6_d6c9a358ce72row14_col2\" class=\"data row14 col2\" >112989</td>\n",
       "                        <td id=\"T_91d6f968_1276_11ea_89d6_d6c9a358ce72row14_col3\" class=\"data row14 col3\" >129846</td>\n",
       "            </tr>\n",
       "            <tr>\n",
       "                        <th id=\"T_91d6f968_1276_11ea_89d6_d6c9a358ce72level0_row15\" class=\"row_heading level0 row15\" >浙江</th>\n",
       "                        <td id=\"T_91d6f968_1276_11ea_89d6_d6c9a358ce72row15_col0\" class=\"data row15 col0\" >2.37567e+06</td>\n",
       "                        <td id=\"T_91d6f968_1276_11ea_89d6_d6c9a358ce72row15_col1\" class=\"data row15 col1\" >2.064e+06</td>\n",
       "                        <td id=\"T_91d6f968_1276_11ea_89d6_d6c9a358ce72row15_col2\" class=\"data row15 col2\" >2.3821e+06</td>\n",
       "                        <td id=\"T_91d6f968_1276_11ea_89d6_d6c9a358ce72row15_col3\" class=\"data row15 col3\" >3.06207e+06</td>\n",
       "            </tr>\n",
       "            <tr>\n",
       "                        <th id=\"T_91d6f968_1276_11ea_89d6_d6c9a358ce72level0_row16\" class=\"row_heading level0 row16\" >海南</th>\n",
       "                        <td id=\"T_91d6f968_1276_11ea_89d6_d6c9a358ce72row16_col0\" class=\"data row16 col0\" >707622</td>\n",
       "                        <td id=\"T_91d6f968_1276_11ea_89d6_d6c9a358ce72row16_col1\" class=\"data row16 col1\" >677366</td>\n",
       "                        <td id=\"T_91d6f968_1276_11ea_89d6_d6c9a358ce72row16_col2\" class=\"data row16 col2\" >1.13469e+06</td>\n",
       "                        <td id=\"T_91d6f968_1276_11ea_89d6_d6c9a358ce72row16_col3\" class=\"data row16 col3\" >2.15286e+06</td>\n",
       "            </tr>\n",
       "            <tr>\n",
       "                        <th id=\"T_91d6f968_1276_11ea_89d6_d6c9a358ce72level0_row17\" class=\"row_heading level0 row17\" >湖北</th>\n",
       "                        <td id=\"T_91d6f968_1276_11ea_89d6_d6c9a358ce72row17_col0\" class=\"data row17 col0\" >924966</td>\n",
       "                        <td id=\"T_91d6f968_1276_11ea_89d6_d6c9a358ce72row17_col1\" class=\"data row17 col1\" >1.05844e+06</td>\n",
       "                        <td id=\"T_91d6f968_1276_11ea_89d6_d6c9a358ce72row17_col2\" class=\"data row17 col2\" >1.20684e+06</td>\n",
       "                        <td id=\"T_91d6f968_1276_11ea_89d6_d6c9a358ce72row17_col3\" class=\"data row17 col3\" >1.96754e+06</td>\n",
       "            </tr>\n",
       "            <tr>\n",
       "                        <th id=\"T_91d6f968_1276_11ea_89d6_d6c9a358ce72level0_row18\" class=\"row_heading level0 row18\" >湖南</th>\n",
       "                        <td id=\"T_91d6f968_1276_11ea_89d6_d6c9a358ce72row18_col0\" class=\"data row18 col0\" >893267</td>\n",
       "                        <td id=\"T_91d6f968_1276_11ea_89d6_d6c9a358ce72row18_col1\" class=\"data row18 col1\" >985904</td>\n",
       "                        <td id=\"T_91d6f968_1276_11ea_89d6_d6c9a358ce72row18_col2\" class=\"data row18 col2\" >859488</td>\n",
       "                        <td id=\"T_91d6f968_1276_11ea_89d6_d6c9a358ce72row18_col3\" class=\"data row18 col3\" >1.58099e+06</td>\n",
       "            </tr>\n",
       "            <tr>\n",
       "                        <th id=\"T_91d6f968_1276_11ea_89d6_d6c9a358ce72level0_row19\" class=\"row_heading level0 row19\" >福建</th>\n",
       "                        <td id=\"T_91d6f968_1276_11ea_89d6_d6c9a358ce72row19_col0\" class=\"data row19 col0\" >4.90135e+06</td>\n",
       "                        <td id=\"T_91d6f968_1276_11ea_89d6_d6c9a358ce72row19_col1\" class=\"data row19 col1\" >5.13986e+06</td>\n",
       "                        <td id=\"T_91d6f968_1276_11ea_89d6_d6c9a358ce72row19_col2\" class=\"data row19 col2\" >6.77893e+06</td>\n",
       "                        <td id=\"T_91d6f968_1276_11ea_89d6_d6c9a358ce72row19_col3\" class=\"data row19 col3\" >1.13485e+07</td>\n",
       "            </tr>\n",
       "            <tr>\n",
       "                        <th id=\"T_91d6f968_1276_11ea_89d6_d6c9a358ce72level0_row20\" class=\"row_heading level0 row20\" >贵州</th>\n",
       "                        <td id=\"T_91d6f968_1276_11ea_89d6_d6c9a358ce72row20_col0\" class=\"data row20 col0\" >1.22006e+06</td>\n",
       "                        <td id=\"T_91d6f968_1276_11ea_89d6_d6c9a358ce72row20_col1\" class=\"data row20 col1\" >1.38913e+06</td>\n",
       "                        <td id=\"T_91d6f968_1276_11ea_89d6_d6c9a358ce72row20_col2\" class=\"data row20 col2\" >1.15573e+06</td>\n",
       "                        <td id=\"T_91d6f968_1276_11ea_89d6_d6c9a358ce72row20_col3\" class=\"data row20 col3\" >2.14902e+06</td>\n",
       "            </tr>\n",
       "            <tr>\n",
       "                        <th id=\"T_91d6f968_1276_11ea_89d6_d6c9a358ce72level0_row21\" class=\"row_heading level0 row21\" >辽宁</th>\n",
       "                        <td id=\"T_91d6f968_1276_11ea_89d6_d6c9a358ce72row21_col0\" class=\"data row21 col0\" >186942</td>\n",
       "                        <td id=\"T_91d6f968_1276_11ea_89d6_d6c9a358ce72row21_col1\" class=\"data row21 col1\" >229525</td>\n",
       "                        <td id=\"T_91d6f968_1276_11ea_89d6_d6c9a358ce72row21_col2\" class=\"data row21 col2\" >398812</td>\n",
       "                        <td id=\"T_91d6f968_1276_11ea_89d6_d6c9a358ce72row21_col3\" class=\"data row21 col3\" >775093</td>\n",
       "            </tr>\n",
       "    </tbody></table>"
      ],
      "text/plain": [
       "<pandas.io.formats.style.Styler at 0x2d24e6c03c8>"
      ]
     },
     "execution_count": 23,
     "metadata": {},
     "output_type": "execute_result"
    }
   ],
   "source": [
    "# 各省份的不同品类产品的订购情况\n",
    "province_category = pd.pivot_table(data1, index=['省份'], values=['商品销售金额'], columns=[\n",
    "                                   '商品品类'], aggfunc=[np.sum], fill_value=0)\n",
    "ind1 = province_category['sum']['商品销售金额'].index\n",
    "province_category_va = province_category['sum']['商品销售金额'].values\n",
    "frame1 = pd.DataFrame(province_category_va, index=['上海', '云南', '内蒙古', '北京', '天津', '安徽', '山东', '山西', '广东', '广西',\n",
    "                                                   '新疆', '江苏', '江西', '河北', '河南', '浙江', '海南', '湖北', '湖南', '福建', '贵州', '辽宁'], columns=['发动机件', '底盘件', '电气设备', '车身及附件'])\n",
    "cm = sns.light_palette('red', as_cmap=True)\n",
    "s = frame1.style.background_gradient(cmap=cm)\n",
    "s\n"
   ]
  },
  {
   "cell_type": "markdown",
   "metadata": {},
   "source": [
    "大部分省份的客户购买车身及附件较多，因为车身及附件大多是属于事故件，即发生事故时更容易损坏车的车身部位。  \n",
    "江苏省的客户购买发动机件的仅次于购买车身及附件。"
   ]
  },
  {
   "cell_type": "markdown",
   "metadata": {},
   "source": [
    "  "
   ]
  },
  {
   "cell_type": "code",
   "execution_count": 24,
   "metadata": {},
   "outputs": [
    {
     "data": {
      "text/html": [
       "<div>\n",
       "<style scoped>\n",
       "    .dataframe tbody tr th:only-of-type {\n",
       "        vertical-align: middle;\n",
       "    }\n",
       "\n",
       "    .dataframe tbody tr th {\n",
       "        vertical-align: top;\n",
       "    }\n",
       "\n",
       "    .dataframe thead th {\n",
       "        text-align: right;\n",
       "    }\n",
       "</style>\n",
       "<table border=\"1\" class=\"dataframe\">\n",
       "  <thead>\n",
       "    <tr style=\"text-align: right;\">\n",
       "      <th></th>\n",
       "      <th>车品牌</th>\n",
       "      <th>商品销售金额</th>\n",
       "    </tr>\n",
       "  </thead>\n",
       "  <tbody>\n",
       "    <tr>\n",
       "      <th>0</th>\n",
       "      <td>丰田</td>\n",
       "      <td>29988059.0</td>\n",
       "    </tr>\n",
       "    <tr>\n",
       "      <th>1</th>\n",
       "      <td>本田</td>\n",
       "      <td>23810799.0</td>\n",
       "    </tr>\n",
       "    <tr>\n",
       "      <th>2</th>\n",
       "      <td>宝马</td>\n",
       "      <td>22059178.0</td>\n",
       "    </tr>\n",
       "    <tr>\n",
       "      <th>3</th>\n",
       "      <td>日产</td>\n",
       "      <td>19352369.0</td>\n",
       "    </tr>\n",
       "    <tr>\n",
       "      <th>4</th>\n",
       "      <td>大众</td>\n",
       "      <td>15755130.0</td>\n",
       "    </tr>\n",
       "    <tr>\n",
       "      <th>5</th>\n",
       "      <td>奔驰</td>\n",
       "      <td>12731084.0</td>\n",
       "    </tr>\n",
       "    <tr>\n",
       "      <th>6</th>\n",
       "      <td>奥迪</td>\n",
       "      <td>10487042.0</td>\n",
       "    </tr>\n",
       "    <tr>\n",
       "      <th>7</th>\n",
       "      <td>福特</td>\n",
       "      <td>7735894.0</td>\n",
       "    </tr>\n",
       "    <tr>\n",
       "      <th>8</th>\n",
       "      <td>路虎</td>\n",
       "      <td>7139196.0</td>\n",
       "    </tr>\n",
       "    <tr>\n",
       "      <th>9</th>\n",
       "      <td>别克</td>\n",
       "      <td>7085615.0</td>\n",
       "    </tr>\n",
       "  </tbody>\n",
       "</table>\n",
       "</div>"
      ],
      "text/plain": [
       "  车品牌      商品销售金额\n",
       "0  丰田  29988059.0\n",
       "1  本田  23810799.0\n",
       "2  宝马  22059178.0\n",
       "3  日产  19352369.0\n",
       "4  大众  15755130.0\n",
       "5  奔驰  12731084.0\n",
       "6  奥迪  10487042.0\n",
       "7  福特   7735894.0\n",
       "8  路虎   7139196.0\n",
       "9  别克   7085615.0"
      ]
     },
     "execution_count": 24,
     "metadata": {},
     "output_type": "execute_result"
    }
   ],
   "source": [
    "# 华南区销售额排名前十车品牌\n",
    "sales_car_HN = data1.where(data1['大区'] == '华南大区').groupby(\n",
    "    '车品牌')['商品销售金额'].sum().sort_values(ascending=False)\n",
    "sales_car_HN_1 = sales_car_HN.to_frame()  # 转为dataframe\n",
    "sales_car_HN_1.reset_index(inplace=True)\n",
    "sales_car_HN_1['商品销售金额'] = round(sales_car_HN_1['商品销售金额'], 0)  # 取整\n",
    "sales_car_HN_top10 = sales_car_HN_1[:10]\n",
    "sales_car_HN_top10\n"
   ]
  },
  {
   "cell_type": "code",
   "execution_count": 25,
   "metadata": {},
   "outputs": [
    {
     "data": {
      "image/png": "[encoded data removed]",
      "text/plain": [
       "<Figure size 864x432 with 1 Axes>"
      ]
     },
     "metadata": {
      "needs_background": "light"
     },
     "output_type": "display_data"
    }
   ],
   "source": [
    "a = list(sales_car_HN_top10['车品牌'])\n",
    "b = list(sales_car_HN_top10['商品销售金额'])\n",
    "plt.figure(figsize=(12, 6))\n",
    "# 绘制条形图\n",
    "plt.barh(range(len(a)), b, height=0.3, color='#FFA07A')\n",
    "# 对应x轴与字符串\n",
    "plt.yticks(range(len(a)), a, rotation=0)\n",
    "# 添加具体数值\n",
    "for y, x in enumerate(b):\n",
    "    plt.text(x+1000000, y-0.3/2, '%.0f' % x, ha='center', va='bottom')\n",
    "# 添加网格\n",
    "plt.grid(alpha=0.3)\n",
    "# 添加图示\n",
    "plt.legend(['商品销售金额', ], loc='upper right')\n",
    "# 添加标题\n",
    "plt.title('华南大区车品牌销售额top10', loc='center', fontsize='18')\n",
    "plt.show()\n"
   ]
  },
  {
   "cell_type": "code",
   "execution_count": 26,
   "metadata": {},
   "outputs": [],
   "source": [
    "# 华南区不同车品牌的品牌件销售占比、原厂件销售占比分别是多少\n",
    "data2 = data1.where(data1['大区'] == '华南大区')\n",
    "data2.dropna(axis=0, how='any', inplace=True)\n"
   ]
  },
  {
   "cell_type": "code",
   "execution_count": 27,
   "metadata": {},
   "outputs": [],
   "source": [
    "\n",
    "\n",
    "def FilterData(fn, name):\n",
    "    yc_sale = data2.where(fn).groupby('车品牌')[name].sum(\n",
    "    ).sort_values(ascending=False).reset_index()\n",
    "    return yc_sale\n",
    "\n",
    "\n",
    "yc_sale = FilterData(data2['配件品质'] == '原厂', '商品销售金额')\n",
    "pp_sale = FilterData(data2['配件品质'] != '原厂', '商品销售金额')\n",
    "yc_num = FilterData(data2['配件品质'] == '原厂', '商品销售数量')\n",
    "pp_num = FilterData(data2['配件品质'] != '原厂', '商品销售数量')\n"
   ]
  },
  {
   "cell_type": "code",
   "execution_count": 28,
   "metadata": {},
   "outputs": [],
   "source": [
    "data3 = pd.merge(sales_car_HN_1, yc_sale, how='left', on='车品牌')\n",
    "data4 = pd.merge(data3, pp_sale, how='left', on='车品牌')\n",
    "data4.columns = ['车品牌', '商品销售金额', '原厂件销售金额', '品牌件销售金额']\n"
   ]
  },
  {
   "cell_type": "code",
   "execution_count": 29,
   "metadata": {},
   "outputs": [],
   "source": [
    "data4['品牌件销售金额'] = round(data4['品牌件销售金额'], 0)  # 取整\n",
    "data4.fillna(0, inplace=True)  # 用0替代空值\n"
   ]
  },
  {
   "cell_type": "code",
   "execution_count": 30,
   "metadata": {},
   "outputs": [],
   "source": [
    "data4['原厂件销售额占比'] = (data4['原厂件销售金额']/data4['商品销售金额']\n",
    "                     ).apply(lambda x: format(x, '.2%'))\n",
    "data4['品牌件销售额占比'] = (data4['品牌件销售金额']/data4['商品销售金额']\n",
    "                     ).apply(lambda x: format(x, '.2%'))\n"
   ]
  },
  {
   "cell_type": "code",
   "execution_count": 31,
   "metadata": {},
   "outputs": [],
   "source": [
    "data5 = data2.groupby('车品牌')['商品销售数量'].sum(\n",
    ").sort_values(ascending=False).reset_index()\n",
    "data6 = pd.merge(data5, yc_num, how='left', on='车品牌')\n",
    "data6 = pd.merge(data6, pp_num, how='left', on='车品牌')\n",
    "data6.columns = ['车品牌', '商品销售数量', '原厂件销售数量', '品牌件销售数量']\n",
    "data6.fillna(0, inplace=True)  # 用0替代空值\n"
   ]
  },
  {
   "cell_type": "code",
   "execution_count": 32,
   "metadata": {},
   "outputs": [],
   "source": [
    "data6['原厂件销售量占比'] = data6['原厂件销售数量']/data6['商品销售数量']\n",
    "data6['品牌件销售量占比'] = data6['品牌件销售数量']/data6['商品销售数量']\n",
    "data6['原厂件销售量占比'] = round(data6['原厂件销售量占比'], 2)  # 2位小数\n",
    "data6['品牌件销售量占比'] = round(data6['品牌件销售量占比'], 2)  # 2位小数\n"
   ]
  },
  {
   "cell_type": "code",
   "execution_count": 33,
   "metadata": {},
   "outputs": [],
   "source": [
    "# 用销量占比来画图\n",
    "data6_top10 = data6[:10]\n",
    "data6_top10 = data6_top10.sort_values(by=['原厂件销售量占比'], ascending=False)\n",
    "data6_top10.reset_index(drop=True, inplace=True)\n"
   ]
  },
  {
   "cell_type": "code",
   "execution_count": 34,
   "metadata": {},
   "outputs": [
    {
     "data": {
      "image/png": "[encoded data removed]",
      "text/plain": [
       "<Figure size 720x432 with 1 Axes>"
      ]
     },
     "metadata": {
      "needs_background": "light"
     },
     "output_type": "display_data"
    }
   ],
   "source": [
    "index = np.arange(len(data6_top10))\n",
    "x_yc = np.array(list(data6_top10['原厂件销售量占比']))\n",
    "x_pp = np.array(list(data6_top10['品牌件销售量占比']))\n",
    "# 设定画布大小\n",
    "plt.figure(figsize=(10, 6))\n",
    "# 建立簇状柱形图\n",
    "plt.bar(index, data6_top10['原厂件销售量占比'], color='#2E8BC0', width=0.25)\n",
    "plt.bar(index+0.25, data6_top10['品牌件销售量占比'], color='#B1D4E0', width=0.25)\n",
    "plt.xticks(index+0.125, data6_top10['车品牌'])\n",
    "plt.yticks([0, 0.2, 0.4, 0.6, 0.8, 1])\n",
    "plt.xlabel('车品牌')\n",
    "plt.ylabel('销售占比')\n",
    "# 添加数据标签\n",
    "for a, b in zip(index, x_yc):\n",
    "    plt.text(a-0.05, b+0.005, '%.0f%%' %\n",
    "             (b*100), ha='center', va='bottom', fontsize=11)\n",
    "for a, b in zip(index, x_pp):\n",
    "    plt.text(a+0.25, b+0.005, '%.0f%%' %\n",
    "             (b*100), ha='center', va='bottom', fontsize=11)\n",
    "# 添加标题\n",
    "plt.title('华南大区原厂件和品牌件销量占比', fontsize=18)\n",
    "# 添加图例\n",
    "plt.legend(['原厂件销量占比', '品牌件销量占比'], loc='upper right')\n",
    "plt.show()\n"
   ]
  },
  {
   "cell_type": "markdown",
   "metadata": {},
   "source": [
    "从图中可以发现，奥迪、大众（进口）、奔驰、宝马、现代的原厂件销量占比达到60%以上。  \n",
    "一方面说明客户对于豪华车，普遍会使用原厂件，以保证产品与原来的一样，另一方面说明，品牌件还没有得到客户信赖和认可。  \n",
    "而日产、本田、别克、丰田、福特，品牌件占比已经达到40%以上，甚至超过原厂件销量，说明品牌件从质量和价格越来越得到客户认可。"
   ]
  },
  {
   "cell_type": "markdown",
   "metadata": {},
   "source": [
    "## 五、结论"
   ]
  },
  {
   "cell_type": "markdown",
   "metadata": {},
   "source": [
    "#### 通过对销售记录的分析，得出以下几个结论："
   ]
  },
  {
   "cell_type": "markdown",
   "metadata": {},
   "source": [
    "   1. 华南区域作为该公司的主要市场，要继续巩固华南市场的地位。  \n",
    "   2. 在华南区域其它销量不高的省份进行市场调研，寻找不愿在平台消费的原因，分析原因并改善。  \n",
    "   3. 大部分成交的品类为车身及附件，成交量占40.6%，发动机件和底盘件各占21.5%，因此可以从车身及附件做推广促销，吸引客户购买。  \n",
    "   4. 品牌件的发展是大势所趋，产品质量有保证且价格比原厂件更具优势，尤其是风本日等保有量高的车品牌，可以更多推广品牌件。"
   ]
  },
  {
   "cell_type": "markdown",
   "metadata": {},
   "source": [
    "  "
   ]
  }
 ],
 "metadata": {
  "file_extension": ".py",
  "kernelspec": {
   "display_name": "Python 3",
   "language": "python",
   "name": "python3"
  },
  "language_info": {
   "codemirror_mode": {
    "name": "ipython",
    "version": 3
   },
   "file_extension": ".py",
   "mimetype": "text/x-python",
   "name": "python",
   "nbconvert_exporter": "python",
   "pygments_lexer": "ipython3",
   "version": "3.7.3"
  },
  "mimetype": "text/x-python",
  "name": "python",
  "npconvert_exporter": "python",
  "pygments_lexer": "ipython3",
  "version": 3
 },
 "nbformat": 4,
 "nbformat_minor": 2
}
